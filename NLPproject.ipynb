{
  "nbformat": 4,
  "nbformat_minor": 0,
  "metadata": {
    "colab": {
      "provenance": [],
      "gpuType": "T4"
    },
    "kernelspec": {
      "name": "python3",
      "display_name": "Python 3"
    },
    "language_info": {
      "name": "python"
    },
    "accelerator": "GPU"
  },
  "cells": [
    {
      "cell_type": "code",
      "execution_count": 4,
      "metadata": {
        "id": "MCTy_aE3yfJy"
      },
      "outputs": [],
      "source": [
        "import pandas as pd\n",
        "import numpy as np\n",
        "import nltk\n",
        "from nltk import word_tokenize\n",
        "from nltk.corpus import stopwords\n",
        "import seaborn as sns\n",
        "import matplotlib.pyplot as plt\n",
        "from numpy import ndarray as NDArray\n",
        "from nltk.stem import WordNetLemmatizer\n",
        "from sklearn.feature_extraction.text import TfidfVectorizer\n",
        "from sklearn.svm import SVC, LinearSVC\n",
        "from sklearn.pipeline import Pipeline\n",
        "from typing import Iterable, Text, Union\n",
        "from sklearn.model_selection import train_test_split, GridSearchCV\n",
        "from sklearn.metrics import classification_report, accuracy_score\n",
        "from sklearn.linear_model import LogisticRegression\n",
        "from sklearn.model_selection import train_test_split, GridSearchCV, cross_val_predict\n",
        "from sklearn.metrics import classification_report, accuracy_score, confusion_matrix\n"
      ]
    },
    {
      "cell_type": "code",
      "source": [
        "# Download NLTK resources (run only once)\n",
        "nltk.download('punkt')\n",
        "nltk.download('wordnet')\n",
        "nltk.download('stopwords')"
      ],
      "metadata": {
        "colab": {
          "base_uri": "https://localhost:8080/"
        },
        "id": "27DixAmxyhU6",
        "outputId": "8979386a-55c0-4540-d23d-46fb7074aedd"
      },
      "execution_count": 5,
      "outputs": [
        {
          "output_type": "stream",
          "name": "stderr",
          "text": [
            "[nltk_data] Downloading package punkt to /root/nltk_data...\n",
            "[nltk_data]   Package punkt is already up-to-date!\n",
            "[nltk_data] Downloading package wordnet to /root/nltk_data...\n",
            "[nltk_data]   Package wordnet is already up-to-date!\n",
            "[nltk_data] Downloading package stopwords to /root/nltk_data...\n",
            "[nltk_data]   Package stopwords is already up-to-date!\n"
          ]
        },
        {
          "output_type": "execute_result",
          "data": {
            "text/plain": [
              "True"
            ]
          },
          "metadata": {},
          "execution_count": 5
        }
      ]
    },
    {
      "cell_type": "code",
      "source": [
        "from google.colab import drive\n",
        "drive.mount('/content/drive')\n",
        "training_data = pd.read_csv(\"/content/drive/MyDrive/train.csv\")\n",
        "testing_data = pd.read_csv(\"/content/drive/MyDrive/test.csv\")\n"
      ],
      "metadata": {
        "colab": {
          "base_uri": "https://localhost:8080/"
        },
        "id": "6gZ3K-7Qykjc",
        "outputId": "bba90a42-6e40-4e58-988e-24989032d25b"
      },
      "execution_count": 6,
      "outputs": [
        {
          "output_type": "stream",
          "name": "stdout",
          "text": [
            "Mounted at /content/drive\n"
          ]
        }
      ]
    },
    {
      "cell_type": "code",
      "source": [
        "# Measure of diversity\n",
        "total_reviews = len(training_data)\n",
        "unique_reviews = len(training_data['TEXT'].unique())\n",
        "diversity = unique_reviews / total_reviews\n",
        "print(\"Measure of Diversity:\", diversity)\n",
        "\n",
        "# Dataset size per class\n",
        "class_counts = training_data['LABEL'].value_counts()\n",
        "print(\"Dataset Size per Class:\")\n",
        "print(class_counts)\n",
        "\n",
        "# Example data points\n",
        "example_data_points = {}\n",
        "for label in class_counts.index:\n",
        "    example_data_points[label] = training_data[training_data['LABEL'] == label]['TEXT'].iloc[0]\n",
        "\n",
        "# Print example data points\n",
        "print(\"\\nExample Data Points:\")\n",
        "for label, data_point in example_data_points.items():\n",
        "    print(\"Class:\", label)\n",
        "    print(\"Example Data Point:\", data_point)\n",
        "    print()"
      ],
      "metadata": {
        "colab": {
          "base_uri": "https://localhost:8080/"
        },
        "id": "wpmIXpCqBhZM",
        "outputId": "e1f499d2-c288-4d6f-ad8a-7b9b55f03448"
      },
      "execution_count": 7,
      "outputs": [
        {
          "output_type": "stream",
          "name": "stdout",
          "text": [
            "Measure of Diversity: 0.9862479912396718\n",
            "Dataset Size per Class:\n",
            "LABEL\n",
            "0    32071\n",
            "1    19276\n",
            "2    18970\n",
            "Name: count, dtype: int64\n",
            "\n",
            "Example Data Points:\n",
            "Class: 0\n",
            "Example Data Point: I paid something like 89 cents for this book through Amazon.  I use it all the time.  It shows many, many cross stitches and has pretty patterns.\n",
            "\n",
            "Class: 1\n",
            "Example Data Point: I saw Anatomy years ago -- dubbed at a friends house I don't remember it much, and then I saw at the video store there is a second one -- not really related to the first one Franka Ponte makes a little cameo. And that one was okay not as good as the first one. I'm seeing the first one again tonight -- not dubbed collectors edition. I really like German movies like this one it's very interesting and people and cults like the one in the movie could exist i think, i dunno. But it's very grossly entertaining and scary. Anatomy 2 is a little different and the characters are not as good as the first. But if you really thought Anatomy was interesting and good you should see the second one.\n",
            "\n",
            "Class: 2\n",
            "Example Data Point: If you love good films don't ever buy this peice of crap!\n",
            "\n"
          ]
        }
      ]
    },
    {
      "cell_type": "code",
      "source": [
        "label_counts = training_data['LABEL'].value_counts()\n",
        "\n",
        "plot_labels = {\n",
        "    0 : 'Not a movie or TV show review',\n",
        "    1 : 'A positive movie or TV show review',\n",
        "    2 : 'A negative movie or TV show review'\n",
        "}\n",
        "\n",
        "label_counts.rename(index=plot_labels, inplace=True)\n",
        "\n",
        "plt.figure(figsize=(8, 4))\n",
        "sns.barplot(x=label_counts.values, y=label_counts.index, palette='Set1')\n",
        "plt.xlabel('Frequency')\n",
        "plt.ylabel('')\n",
        "plt.tight_layout()\n",
        "plt.show()\n"
      ],
      "metadata": {
        "colab": {
          "base_uri": "https://localhost:8080/",
          "height": 494
        },
        "id": "0MEbsYKJynHA",
        "outputId": "b7595428-e46c-43d6-e73e-6d8feb01db56"
      },
      "execution_count": 8,
      "outputs": [
        {
          "output_type": "stream",
          "name": "stderr",
          "text": [
            "<ipython-input-8-cf4cbaefd267>:12: FutureWarning: \n",
            "\n",
            "Passing `palette` without assigning `hue` is deprecated and will be removed in v0.14.0. Assign the `y` variable to `hue` and set `legend=False` for the same effect.\n",
            "\n",
            "  sns.barplot(x=label_counts.values, y=label_counts.index, palette='Set1')\n"
          ]
        },
        {
          "output_type": "display_data",
          "data": {
            "text/plain": [
              "<Figure size 800x400 with 1 Axes>"
            ],
            "image/png": "[encoded data removed]"
          },
          "metadata": {}
        }
      ]
    },
    {
      "cell_type": "code",
      "source": [
        "def transform_column(dataset):\n",
        "  \"\"\"Function to transform the null values and datatypes\n",
        "\n",
        "  Args:\n",
        "      dataset (pd.Dataframe)\n",
        "\n",
        "  Returns:\n",
        "      pd.Dataframe\n",
        "  \"\"\"\n",
        "  dataset['TEXT'] = dataset['TEXT'].fillna('EMPTY REVIEW')\n",
        "  dataset['TEXT'] = dataset['TEXT'].astype(str)\n",
        "  return dataset\n",
        "\n",
        "# Applying the function on both train and test data\n",
        "new_training_data = transform_column(training_data)\n",
        "new_testing_data = transform_column(testing_data)"
      ],
      "metadata": {
        "id": "dybFcLjV1GrN"
      },
      "execution_count": 68,
      "outputs": []
    },
    {
      "cell_type": "code",
      "source": [
        "# Preprocess text data\n",
        "stop_words = set(stopwords.words('english'))\n",
        "lemmatizer = WordNetLemmatizer()\n",
        "\n",
        "\n",
        "lemmatizer = WordNetLemmatizer()\n",
        "\n",
        "# stop_words = set(stopwords.words('english')) - didn't help improve the model for some reason\n",
        "\n",
        "def process_text(text):\n",
        "    \"\"\"Process the input text by tokenizing, lemmatizing\n",
        "\n",
        "    Args:\n",
        "        text (str): Input text to be processed\n",
        "\n",
        "    Returns:\n",
        "        str: Processed text\n",
        "    \"\"\"\n",
        "    tokens = word_tokenize(text.lower())\n",
        "    processed_tokens = [lemmatizer.lemmatize(token) for token in tokens]\n",
        "    processed_text = \" \".join(processed_tokens)\n",
        "    return processed_text\n",
        "\n",
        "new_training_data['TEXT'] = new_training_data['TEXT'].apply(process_text)"
      ],
      "metadata": {
        "id": "LDhGmKeVy4Js"
      },
      "execution_count": 69,
      "outputs": []
    },
    {
      "cell_type": "code",
      "source": [
        "# Separating train and test data for features and labels\n",
        "X_train = new_training_data['TEXT']\n",
        "y_train = new_training_data['LABEL']\n",
        "X_test = new_testing_data['TEXT']\n",
        "\n",
        "# Using TFIDF Vectorizer\n",
        "tfidf_vectorizer = TfidfVectorizer(ngram_range=(1, 2))\n",
        "X_train_tfidf = tfidf_vectorizer.fit_transform(X_train)\n",
        "X_test_tfidf = tfidf_vectorizer.transform(X_test)\n",
        "\n",
        "# Logistic Regression with Grid Search for Hyperparameter Tuning\n",
        "logistic_classifier = LogisticRegression(class_weight=\"balanced\", max_iter=2000)\n",
        "\n",
        "# Define the pipeline with TF-IDF vectorizer and Logistic Regression classifier\n",
        "pipeline = Pipeline([\n",
        "    ('tfidf', TfidfVectorizer()),\n",
        "    ('classifier', logistic_classifier)\n",
        "])\n",
        "\n",
        "# Define the parameter grid for hyperparameter tuning\n",
        "param_grid = {\n",
        "    'tfidf__max_features': [1000, 5000, 10000],\n",
        "    'classifier__C': [0.1, 1, 10],\n",
        "    # Add more hyperparameters as needed\n",
        "}\n",
        "\n",
        "# Perform grid search\n",
        "grid_search = GridSearchCV(pipeline, param_grid, cv=5, n_jobs=-1)\n",
        "grid_search.fit(X_train, y_train)\n",
        "\n",
        "# Get the best parameters\n",
        "best_params = grid_search.best_params_\n",
        "print(\"Best Parameters:\", best_params)\n",
        "\n",
        "# Re-train the model with the best parameters\n",
        "best_pipeline = grid_search.best_estimator_\n",
        "best_pipeline.fit(X_train, y_train)\n",
        "\n",
        "# Training data accuracy\n",
        "y_train_pred = best_pipeline.predict(X_train)\n",
        "train_acc = accuracy_score(y_train, y_train_pred)\n",
        "\n",
        "print(\"Logistic Regression Training Accuracy:\", train_acc)\n",
        "print(\"======================================================\")\n",
        "print(classification_report(y_train, y_train_pred))\n",
        "\n",
        "# Predicting on test data\n",
        "y_pred_final = best_pipeline.predict(X_test)\n",
        "\n",
        "# Save predictions to a CSV file\n",
        "submission_df = pd.DataFrame({'ID': testing_data['ID'], 'LABEL': y_pred_final})\n",
        "submission_df.to_csv('submission.csv', index=False)\n",
        "\n",
        "# Error Analysis and Model Evaluation\n",
        "# Cross-validation predictions\n",
        "cv_predictions = cross_val_predict(best_pipeline, X_train, y_train, cv=5)\n",
        "# Confusion matrix\n",
        "conf_matrix = confusion_matrix(y_train, cv_predictions)\n",
        "print(\"Confusion Matrix:\")\n",
        "print(conf_matrix)\n",
        "# Classification report\n",
        "print(\"Classification Report:\")\n",
        "print(classification_report(y_train, cv_predictions))"
      ],
      "metadata": {
        "colab": {
          "base_uri": "https://localhost:8080/"
        },
        "id": "rcx4QJV9y_oJ",
        "outputId": "26d59160-eab4-4e8e-9fce-ce529416110a"
      },
      "execution_count": 74,
      "outputs": [
        {
          "output_type": "stream",
          "name": "stdout",
          "text": [
            "Best Parameters: {'classifier__C': 1, 'tfidf__max_features': 10000}\n",
            "Logistic Regression Training Accuracy: 0.9504102848528805\n",
            "======================================================\n",
            "              precision    recall  f1-score   support\n",
            "\n",
            "           0       0.98      0.99      0.98     32071\n",
            "           1       0.92      0.92      0.92     19276\n",
            "           2       0.93      0.92      0.93     18970\n",
            "\n",
            "    accuracy                           0.95     70317\n",
            "   macro avg       0.94      0.94      0.94     70317\n",
            "weighted avg       0.95      0.95      0.95     70317\n",
            "\n",
            "Confusion Matrix:\n",
            "[[31473   369   229]\n",
            " [  627 16879  1770]\n",
            " [  352  1998 16620]]\n",
            "Classification Report:\n",
            "              precision    recall  f1-score   support\n",
            "\n",
            "           0       0.97      0.98      0.98     32071\n",
            "           1       0.88      0.88      0.88     19276\n",
            "           2       0.89      0.88      0.88     18970\n",
            "\n",
            "    accuracy                           0.92     70317\n",
            "   macro avg       0.91      0.91      0.91     70317\n",
            "weighted avg       0.92      0.92      0.92     70317\n",
            "\n"
          ]
        }
      ]
    },
    {
      "cell_type": "code",
      "source": [
        "submission_df = pd.DataFrame({'ID': testing_data['ID'], 'LABEL': y_pred_final})\n",
        "submission_df.to_csv('/content/drive/MyDrive/submission1.csv', index=False)"
      ],
      "metadata": {
        "id": "t3_sd9As2J3I"
      },
      "execution_count": 75,
      "outputs": []
    },
    {
      "cell_type": "code",
      "source": [],
      "metadata": {
        "id": "0Myvf81np46E"
      },
      "execution_count": null,
      "outputs": []
    }
  ]
}